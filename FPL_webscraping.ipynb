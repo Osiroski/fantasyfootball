{
  "nbformat": 4,
  "nbformat_minor": 0,
  "metadata": {
    "colab": {
      "name": "FPL webscraping",
      "provenance": [],
      "collapsed_sections": [],
      "authorship_tag": "ABX9TyNEYX9DoNpnXWyH4Co+HaN0",
      "include_colab_link": true
    },
    "kernelspec": {
      "display_name": "Python 3",
      "name": "python3"
    }
  },
  "cells": [
    {
      "cell_type": "markdown",
      "metadata": {
        "id": "view-in-github",
        "colab_type": "text"
      },
      "source": [
        "<a href=\"https://colab.research.google.com/github/Osiroski/fantasyfootball/blob/main/FPL_webscraping.ipynb\" target=\"_parent\"><img src=\"https://colab.research.google.com/assets/colab-badge.svg\" alt=\"Open In Colab\"/></a>"
      ]
    },
    {
      "cell_type": "code",
      "metadata": {
        "colab": {
          "background_save": true
        },
        "id": "iSeQvBeHGiXy"
      },
      "source": [
        "import requests\n",
        "import json\n",
        "import numpy as np\n",
        "import pandas as pd\n",
        "import datetime"
      ],
      "execution_count": null,
      "outputs": []
    },
    {
      "cell_type": "code",
      "metadata": {
        "id": "Nid7DHMMJkpE"
      },
      "source": [
        "# Make a get request to get the latest player data from the FPL API\n",
        "link = \"https://fantasy.premierleague.com/api/bootstrap-static/\"\n",
        "response = requests.get(link)"
      ],
      "execution_count": null,
      "outputs": []
    },
    {
      "cell_type": "code",
      "metadata": {
        "id": "garPSXZ27M2N"
      },
      "source": [
        "#Use the requests package to make a GET request from the API endpoint:\n",
        "#Then, transform that request into a json object:\n",
        "r = requests.get(link)\n",
        "json=r.json()"
      ],
      "execution_count": null,
      "outputs": []
    },
    {
      "cell_type": "code",
      "metadata": {
        "colab": {
          "base_uri": "https://localhost:8080/"
        },
        "id": "-9IeTnLC9ZTs",
        "outputId": "695f18e9-43ac-49fa-d157-58b42bb71bbe"
      },
      "source": [
        "#Checkout the keys\n",
        "json.keys()"
      ],
      "execution_count": null,
      "outputs": [
        {
          "output_type": "execute_result",
          "data": {
            "text/plain": [
              "dict_keys(['events', 'game_settings', 'phases', 'teams', 'total_players', 'elements', 'element_stats', 'element_types'])"
            ]
          },
          "metadata": {
            "tags": []
          },
          "execution_count": 4
        }
      ]
    },
    {
      "cell_type": "code",
      "metadata": {
        "id": "EpWlmecA9piX"
      },
      "source": [
        "#The three keys interested are elements , element_type , and teams .\n",
        "#Build dataframes\n",
        "elements_df = pd.DataFrame(json['elements'])\n",
        "elements_types_df = pd.DataFrame(json['element_types'])\n",
        "teams_df = pd.DataFrame(json['teams'])"
      ],
      "execution_count": null,
      "outputs": []
    },
    {
      "cell_type": "code",
      "metadata": {
        "colab": {
          "base_uri": "https://localhost:8080/"
        },
        "id": "o7c_2_xLA4FC",
        "outputId": "7c85a6d8-c85c-4f2d-f3db-2cab16aa48ee"
      },
      "source": [
        "elements_df.columns"
      ],
      "execution_count": null,
      "outputs": [
        {
          "output_type": "execute_result",
          "data": {
            "text/plain": [
              "Index(['chance_of_playing_next_round', 'chance_of_playing_this_round', 'code',\n",
              "       'cost_change_event', 'cost_change_event_fall', 'cost_change_start',\n",
              "       'cost_change_start_fall', 'dreamteam_count', 'element_type', 'ep_next',\n",
              "       'ep_this', 'event_points', 'first_name', 'form', 'id', 'in_dreamteam',\n",
              "       'news', 'news_added', 'now_cost', 'photo', 'points_per_game',\n",
              "       'second_name', 'selected_by_percent', 'special', 'squad_number',\n",
              "       'status', 'team', 'team_code', 'total_points', 'transfers_in',\n",
              "       'transfers_in_event', 'transfers_out', 'transfers_out_event',\n",
              "       'value_form', 'value_season', 'web_name', 'minutes', 'goals_scored',\n",
              "       'assists', 'clean_sheets', 'goals_conceded', 'own_goals',\n",
              "       'penalties_saved', 'penalties_missed', 'yellow_cards', 'red_cards',\n",
              "       'saves', 'bonus', 'bps', 'influence', 'creativity', 'threat',\n",
              "       'ict_index', 'influence_rank', 'influence_rank_type', 'creativity_rank',\n",
              "       'creativity_rank_type', 'threat_rank', 'threat_rank_type',\n",
              "       'ict_index_rank', 'ict_index_rank_type',\n",
              "       'corners_and_indirect_freekicks_order',\n",
              "       'corners_and_indirect_freekicks_text', 'direct_freekicks_order',\n",
              "       'direct_freekicks_text', 'penalties_order', 'penalties_text'],\n",
              "      dtype='object')"
            ]
          },
          "metadata": {
            "tags": []
          },
          "execution_count": 6
        }
      ]
    },
    {
      "cell_type": "code",
      "metadata": {
        "colab": {
          "base_uri": "https://localhost:8080/",
          "height": 517
        },
        "id": "j_GiUiws-g5y",
        "outputId": "a498831a-e37f-4ae7-e6bf-94de66bc8c12"
      },
      "source": [
        "elements_df.head()"
      ],
      "execution_count": null,
      "outputs": [
        {
          "output_type": "execute_result",
          "data": {
            "text/html": [
              "<div>\n",
              "<style scoped>\n",
              "    .dataframe tbody tr th:only-of-type {\n",
              "        vertical-align: middle;\n",
              "    }\n",
              "\n",
              "    .dataframe tbody tr th {\n",
              "        vertical-align: top;\n",
              "    }\n",
              "\n",
              "    .dataframe thead th {\n",
              "        text-align: right;\n",
              "    }\n",
              "</style>\n",
              "<table border=\"1\" class=\"dataframe\">\n",
              "  <thead>\n",
              "    <tr style=\"text-align: right;\">\n",
              "      <th></th>\n",
              "      <th>chance_of_playing_next_round</th>\n",
              "      <th>chance_of_playing_this_round</th>\n",
              "      <th>code</th>\n",
              "      <th>cost_change_event</th>\n",
              "      <th>cost_change_event_fall</th>\n",
              "      <th>cost_change_start</th>\n",
              "      <th>cost_change_start_fall</th>\n",
              "      <th>dreamteam_count</th>\n",
              "      <th>element_type</th>\n",
              "      <th>ep_next</th>\n",
              "      <th>ep_this</th>\n",
              "      <th>event_points</th>\n",
              "      <th>first_name</th>\n",
              "      <th>form</th>\n",
              "      <th>id</th>\n",
              "      <th>in_dreamteam</th>\n",
              "      <th>news</th>\n",
              "      <th>news_added</th>\n",
              "      <th>now_cost</th>\n",
              "      <th>photo</th>\n",
              "      <th>points_per_game</th>\n",
              "      <th>second_name</th>\n",
              "      <th>selected_by_percent</th>\n",
              "      <th>special</th>\n",
              "      <th>squad_number</th>\n",
              "      <th>status</th>\n",
              "      <th>team</th>\n",
              "      <th>team_code</th>\n",
              "      <th>total_points</th>\n",
              "      <th>transfers_in</th>\n",
              "      <th>transfers_in_event</th>\n",
              "      <th>transfers_out</th>\n",
              "      <th>transfers_out_event</th>\n",
              "      <th>value_form</th>\n",
              "      <th>value_season</th>\n",
              "      <th>web_name</th>\n",
              "      <th>minutes</th>\n",
              "      <th>goals_scored</th>\n",
              "      <th>assists</th>\n",
              "      <th>clean_sheets</th>\n",
              "      <th>goals_conceded</th>\n",
              "      <th>own_goals</th>\n",
              "      <th>penalties_saved</th>\n",
              "      <th>penalties_missed</th>\n",
              "      <th>yellow_cards</th>\n",
              "      <th>red_cards</th>\n",
              "      <th>saves</th>\n",
              "      <th>bonus</th>\n",
              "      <th>bps</th>\n",
              "      <th>influence</th>\n",
              "      <th>creativity</th>\n",
              "      <th>threat</th>\n",
              "      <th>ict_index</th>\n",
              "      <th>influence_rank</th>\n",
              "      <th>influence_rank_type</th>\n",
              "      <th>creativity_rank</th>\n",
              "      <th>creativity_rank_type</th>\n",
              "      <th>threat_rank</th>\n",
              "      <th>threat_rank_type</th>\n",
              "      <th>ict_index_rank</th>\n",
              "      <th>ict_index_rank_type</th>\n",
              "      <th>corners_and_indirect_freekicks_order</th>\n",
              "      <th>corners_and_indirect_freekicks_text</th>\n",
              "      <th>direct_freekicks_order</th>\n",
              "      <th>direct_freekicks_text</th>\n",
              "      <th>penalties_order</th>\n",
              "      <th>penalties_text</th>\n",
              "    </tr>\n",
              "  </thead>\n",
              "  <tbody>\n",
              "    <tr>\n",
              "      <th>0</th>\n",
              "      <td>0.0</td>\n",
              "      <td>0.0</td>\n",
              "      <td>37605</td>\n",
              "      <td>0</td>\n",
              "      <td>0</td>\n",
              "      <td>-3</td>\n",
              "      <td>3</td>\n",
              "      <td>0</td>\n",
              "      <td>3</td>\n",
              "      <td>0.0</td>\n",
              "      <td>0.0</td>\n",
              "      <td>0</td>\n",
              "      <td>Mesut</td>\n",
              "      <td>0.0</td>\n",
              "      <td>1</td>\n",
              "      <td>False</td>\n",
              "      <td>Not included in Arsenal's 25-man Premier Leagu...</td>\n",
              "      <td>2020-10-20T22:30:18.118477Z</td>\n",
              "      <td>67</td>\n",
              "      <td>37605.jpg</td>\n",
              "      <td>0.0</td>\n",
              "      <td>Özil</td>\n",
              "      <td>0.5</td>\n",
              "      <td>False</td>\n",
              "      <td>None</td>\n",
              "      <td>u</td>\n",
              "      <td>1</td>\n",
              "      <td>3</td>\n",
              "      <td>0</td>\n",
              "      <td>3441</td>\n",
              "      <td>0</td>\n",
              "      <td>53759</td>\n",
              "      <td>88</td>\n",
              "      <td>0.0</td>\n",
              "      <td>0.0</td>\n",
              "      <td>Özil</td>\n",
              "      <td>0</td>\n",
              "      <td>0</td>\n",
              "      <td>0</td>\n",
              "      <td>0</td>\n",
              "      <td>0</td>\n",
              "      <td>0</td>\n",
              "      <td>0</td>\n",
              "      <td>0</td>\n",
              "      <td>0</td>\n",
              "      <td>0</td>\n",
              "      <td>0</td>\n",
              "      <td>0</td>\n",
              "      <td>0</td>\n",
              "      <td>0.0</td>\n",
              "      <td>0.0</td>\n",
              "      <td>0.0</td>\n",
              "      <td>0.0</td>\n",
              "      <td>645</td>\n",
              "      <td>260</td>\n",
              "      <td>645</td>\n",
              "      <td>260</td>\n",
              "      <td>644</td>\n",
              "      <td>260</td>\n",
              "      <td>645</td>\n",
              "      <td>260</td>\n",
              "      <td>NaN</td>\n",
              "      <td></td>\n",
              "      <td>NaN</td>\n",
              "      <td></td>\n",
              "      <td>NaN</td>\n",
              "      <td></td>\n",
              "    </tr>\n",
              "    <tr>\n",
              "      <th>1</th>\n",
              "      <td>0.0</td>\n",
              "      <td>0.0</td>\n",
              "      <td>39476</td>\n",
              "      <td>0</td>\n",
              "      <td>0</td>\n",
              "      <td>-2</td>\n",
              "      <td>2</td>\n",
              "      <td>0</td>\n",
              "      <td>2</td>\n",
              "      <td>0.0</td>\n",
              "      <td>0.0</td>\n",
              "      <td>0</td>\n",
              "      <td>Sokratis</td>\n",
              "      <td>0.0</td>\n",
              "      <td>2</td>\n",
              "      <td>False</td>\n",
              "      <td>Left the club by mutual consent on 20/1</td>\n",
              "      <td>2020-10-21T10:30:18.546407Z</td>\n",
              "      <td>48</td>\n",
              "      <td>39476.jpg</td>\n",
              "      <td>0.0</td>\n",
              "      <td>Papastathopoulos</td>\n",
              "      <td>0.1</td>\n",
              "      <td>False</td>\n",
              "      <td>None</td>\n",
              "      <td>u</td>\n",
              "      <td>1</td>\n",
              "      <td>3</td>\n",
              "      <td>0</td>\n",
              "      <td>10266</td>\n",
              "      <td>0</td>\n",
              "      <td>18968</td>\n",
              "      <td>16</td>\n",
              "      <td>0.0</td>\n",
              "      <td>0.0</td>\n",
              "      <td>Sokratis</td>\n",
              "      <td>0</td>\n",
              "      <td>0</td>\n",
              "      <td>0</td>\n",
              "      <td>0</td>\n",
              "      <td>0</td>\n",
              "      <td>0</td>\n",
              "      <td>0</td>\n",
              "      <td>0</td>\n",
              "      <td>0</td>\n",
              "      <td>0</td>\n",
              "      <td>0</td>\n",
              "      <td>0</td>\n",
              "      <td>0</td>\n",
              "      <td>0.0</td>\n",
              "      <td>0.0</td>\n",
              "      <td>0.0</td>\n",
              "      <td>0.0</td>\n",
              "      <td>603</td>\n",
              "      <td>219</td>\n",
              "      <td>593</td>\n",
              "      <td>219</td>\n",
              "      <td>584</td>\n",
              "      <td>215</td>\n",
              "      <td>606</td>\n",
              "      <td>219</td>\n",
              "      <td>NaN</td>\n",
              "      <td></td>\n",
              "      <td>NaN</td>\n",
              "      <td></td>\n",
              "      <td>NaN</td>\n",
              "      <td></td>\n",
              "    </tr>\n",
              "    <tr>\n",
              "      <th>2</th>\n",
              "      <td>100.0</td>\n",
              "      <td>100.0</td>\n",
              "      <td>41270</td>\n",
              "      <td>0</td>\n",
              "      <td>0</td>\n",
              "      <td>-1</td>\n",
              "      <td>1</td>\n",
              "      <td>0</td>\n",
              "      <td>2</td>\n",
              "      <td>3.2</td>\n",
              "      <td>3.7</td>\n",
              "      <td>2</td>\n",
              "      <td>David</td>\n",
              "      <td>3.2</td>\n",
              "      <td>3</td>\n",
              "      <td>False</td>\n",
              "      <td></td>\n",
              "      <td>2020-12-26T18:00:15.638627Z</td>\n",
              "      <td>54</td>\n",
              "      <td>41270.jpg</td>\n",
              "      <td>2.0</td>\n",
              "      <td>Luiz Moreira Marinho</td>\n",
              "      <td>0.8</td>\n",
              "      <td>False</td>\n",
              "      <td>None</td>\n",
              "      <td>a</td>\n",
              "      <td>1</td>\n",
              "      <td>3</td>\n",
              "      <td>22</td>\n",
              "      <td>44415</td>\n",
              "      <td>762</td>\n",
              "      <td>93953</td>\n",
              "      <td>905</td>\n",
              "      <td>0.6</td>\n",
              "      <td>4.1</td>\n",
              "      <td>David Luiz</td>\n",
              "      <td>749</td>\n",
              "      <td>0</td>\n",
              "      <td>0</td>\n",
              "      <td>2</td>\n",
              "      <td>10</td>\n",
              "      <td>0</td>\n",
              "      <td>0</td>\n",
              "      <td>0</td>\n",
              "      <td>1</td>\n",
              "      <td>0</td>\n",
              "      <td>0</td>\n",
              "      <td>0</td>\n",
              "      <td>117</td>\n",
              "      <td>119.0</td>\n",
              "      <td>29.6</td>\n",
              "      <td>56.0</td>\n",
              "      <td>20.4</td>\n",
              "      <td>261</td>\n",
              "      <td>100</td>\n",
              "      <td>315</td>\n",
              "      <td>103</td>\n",
              "      <td>258</td>\n",
              "      <td>79</td>\n",
              "      <td>304</td>\n",
              "      <td>99</td>\n",
              "      <td>NaN</td>\n",
              "      <td></td>\n",
              "      <td>4.0</td>\n",
              "      <td></td>\n",
              "      <td>NaN</td>\n",
              "      <td></td>\n",
              "    </tr>\n",
              "    <tr>\n",
              "      <th>3</th>\n",
              "      <td>50.0</td>\n",
              "      <td>0.0</td>\n",
              "      <td>54694</td>\n",
              "      <td>0</td>\n",
              "      <td>0</td>\n",
              "      <td>-7</td>\n",
              "      <td>7</td>\n",
              "      <td>1</td>\n",
              "      <td>3</td>\n",
              "      <td>2.6</td>\n",
              "      <td>0.0</td>\n",
              "      <td>0</td>\n",
              "      <td>Pierre-Emerick</td>\n",
              "      <td>5.2</td>\n",
              "      <td>4</td>\n",
              "      <td>False</td>\n",
              "      <td>Personal Reasons - 50% chance of playing</td>\n",
              "      <td>2021-01-23T16:00:22.555453Z</td>\n",
              "      <td>113</td>\n",
              "      <td>54694.jpg</td>\n",
              "      <td>4.2</td>\n",
              "      <td>Aubameyang</td>\n",
              "      <td>6.7</td>\n",
              "      <td>False</td>\n",
              "      <td>None</td>\n",
              "      <td>d</td>\n",
              "      <td>1</td>\n",
              "      <td>3</td>\n",
              "      <td>71</td>\n",
              "      <td>560919</td>\n",
              "      <td>1056</td>\n",
              "      <td>3245828</td>\n",
              "      <td>21046</td>\n",
              "      <td>0.5</td>\n",
              "      <td>6.3</td>\n",
              "      <td>Aubameyang</td>\n",
              "      <td>1514</td>\n",
              "      <td>5</td>\n",
              "      <td>1</td>\n",
              "      <td>7</td>\n",
              "      <td>16</td>\n",
              "      <td>1</td>\n",
              "      <td>0</td>\n",
              "      <td>0</td>\n",
              "      <td>2</td>\n",
              "      <td>0</td>\n",
              "      <td>0</td>\n",
              "      <td>6</td>\n",
              "      <td>202</td>\n",
              "      <td>272.2</td>\n",
              "      <td>226.3</td>\n",
              "      <td>519.0</td>\n",
              "      <td>101.8</td>\n",
              "      <td>126</td>\n",
              "      <td>46</td>\n",
              "      <td>76</td>\n",
              "      <td>55</td>\n",
              "      <td>22</td>\n",
              "      <td>13</td>\n",
              "      <td>35</td>\n",
              "      <td>22</td>\n",
              "      <td>NaN</td>\n",
              "      <td></td>\n",
              "      <td>NaN</td>\n",
              "      <td></td>\n",
              "      <td>1.0</td>\n",
              "      <td></td>\n",
              "    </tr>\n",
              "    <tr>\n",
              "      <th>4</th>\n",
              "      <td>100.0</td>\n",
              "      <td>100.0</td>\n",
              "      <td>58822</td>\n",
              "      <td>0</td>\n",
              "      <td>0</td>\n",
              "      <td>-4</td>\n",
              "      <td>4</td>\n",
              "      <td>0</td>\n",
              "      <td>2</td>\n",
              "      <td>3.5</td>\n",
              "      <td>4.0</td>\n",
              "      <td>2</td>\n",
              "      <td>Cédric</td>\n",
              "      <td>3.5</td>\n",
              "      <td>5</td>\n",
              "      <td>False</td>\n",
              "      <td></td>\n",
              "      <td>2020-09-23T09:00:14.881983Z</td>\n",
              "      <td>46</td>\n",
              "      <td>58822.jpg</td>\n",
              "      <td>5.0</td>\n",
              "      <td>Soares</td>\n",
              "      <td>0.2</td>\n",
              "      <td>False</td>\n",
              "      <td>None</td>\n",
              "      <td>a</td>\n",
              "      <td>1</td>\n",
              "      <td>3</td>\n",
              "      <td>15</td>\n",
              "      <td>8697</td>\n",
              "      <td>1925</td>\n",
              "      <td>36592</td>\n",
              "      <td>632</td>\n",
              "      <td>0.8</td>\n",
              "      <td>3.3</td>\n",
              "      <td>Cédric</td>\n",
              "      <td>185</td>\n",
              "      <td>0</td>\n",
              "      <td>1</td>\n",
              "      <td>1</td>\n",
              "      <td>1</td>\n",
              "      <td>0</td>\n",
              "      <td>0</td>\n",
              "      <td>0</td>\n",
              "      <td>0</td>\n",
              "      <td>0</td>\n",
              "      <td>0</td>\n",
              "      <td>3</td>\n",
              "      <td>53</td>\n",
              "      <td>45.0</td>\n",
              "      <td>54.9</td>\n",
              "      <td>9.0</td>\n",
              "      <td>10.9</td>\n",
              "      <td>355</td>\n",
              "      <td>138</td>\n",
              "      <td>250</td>\n",
              "      <td>63</td>\n",
              "      <td>374</td>\n",
              "      <td>140</td>\n",
              "      <td>357</td>\n",
              "      <td>131</td>\n",
              "      <td>NaN</td>\n",
              "      <td></td>\n",
              "      <td>NaN</td>\n",
              "      <td></td>\n",
              "      <td>NaN</td>\n",
              "      <td></td>\n",
              "    </tr>\n",
              "  </tbody>\n",
              "</table>\n",
              "</div>"
            ],
            "text/plain": [
              "   chance_of_playing_next_round  ...  penalties_text\n",
              "0                           0.0  ...                \n",
              "1                           0.0  ...                \n",
              "2                         100.0  ...                \n",
              "3                          50.0  ...                \n",
              "4                         100.0  ...                \n",
              "\n",
              "[5 rows x 67 columns]"
            ]
          },
          "metadata": {
            "tags": []
          },
          "execution_count": 7
        }
      ]
    },
    {
      "cell_type": "code",
      "metadata": {
        "id": "H3shTZS7-h6E"
      },
      "source": [
        "\n",
        "#Prepend **slim_** to these smaller, lighter dataframe copies:\n",
        "slim_elements_df = elements_df[['web_name','team',\n",
        "                                 'element_type','selected_by_percent','now_cost',\n",
        "                                 'value_season',\n",
        "                                 'total_points','points_per_game','minutes',\n",
        "                                 'goals_scored','assists','yellow_cards',\n",
        "                                 'red_cards','bonus','influence','creativity','threat'\n",
        "                                 ]]"
      ],
      "execution_count": null,
      "outputs": []
    },
    {
      "cell_type": "code",
      "metadata": {
        "colab": {
          "base_uri": "https://localhost:8080/",
          "height": 222
        },
        "id": "nRc1LHn0AXCk",
        "outputId": "92100654-f65d-49c9-895c-6bd5b3c07c33"
      },
      "source": [
        "slim_elements_df.head()"
      ],
      "execution_count": null,
      "outputs": [
        {
          "output_type": "execute_result",
          "data": {
            "text/html": [
              "<div>\n",
              "<style scoped>\n",
              "    .dataframe tbody tr th:only-of-type {\n",
              "        vertical-align: middle;\n",
              "    }\n",
              "\n",
              "    .dataframe tbody tr th {\n",
              "        vertical-align: top;\n",
              "    }\n",
              "\n",
              "    .dataframe thead th {\n",
              "        text-align: right;\n",
              "    }\n",
              "</style>\n",
              "<table border=\"1\" class=\"dataframe\">\n",
              "  <thead>\n",
              "    <tr style=\"text-align: right;\">\n",
              "      <th></th>\n",
              "      <th>web_name</th>\n",
              "      <th>team</th>\n",
              "      <th>element_type</th>\n",
              "      <th>selected_by_percent</th>\n",
              "      <th>now_cost</th>\n",
              "      <th>value_season</th>\n",
              "      <th>total_points</th>\n",
              "      <th>points_per_game</th>\n",
              "      <th>minutes</th>\n",
              "      <th>goals_scored</th>\n",
              "      <th>assists</th>\n",
              "      <th>yellow_cards</th>\n",
              "      <th>red_cards</th>\n",
              "      <th>bonus</th>\n",
              "      <th>influence</th>\n",
              "      <th>creativity</th>\n",
              "      <th>threat</th>\n",
              "    </tr>\n",
              "  </thead>\n",
              "  <tbody>\n",
              "    <tr>\n",
              "      <th>0</th>\n",
              "      <td>Özil</td>\n",
              "      <td>1</td>\n",
              "      <td>3</td>\n",
              "      <td>0.5</td>\n",
              "      <td>67</td>\n",
              "      <td>0.0</td>\n",
              "      <td>0</td>\n",
              "      <td>0.0</td>\n",
              "      <td>0</td>\n",
              "      <td>0</td>\n",
              "      <td>0</td>\n",
              "      <td>0</td>\n",
              "      <td>0</td>\n",
              "      <td>0</td>\n",
              "      <td>0.0</td>\n",
              "      <td>0.0</td>\n",
              "      <td>0.0</td>\n",
              "    </tr>\n",
              "    <tr>\n",
              "      <th>1</th>\n",
              "      <td>Sokratis</td>\n",
              "      <td>1</td>\n",
              "      <td>2</td>\n",
              "      <td>0.1</td>\n",
              "      <td>48</td>\n",
              "      <td>0.0</td>\n",
              "      <td>0</td>\n",
              "      <td>0.0</td>\n",
              "      <td>0</td>\n",
              "      <td>0</td>\n",
              "      <td>0</td>\n",
              "      <td>0</td>\n",
              "      <td>0</td>\n",
              "      <td>0</td>\n",
              "      <td>0.0</td>\n",
              "      <td>0.0</td>\n",
              "      <td>0.0</td>\n",
              "    </tr>\n",
              "    <tr>\n",
              "      <th>2</th>\n",
              "      <td>David Luiz</td>\n",
              "      <td>1</td>\n",
              "      <td>2</td>\n",
              "      <td>0.8</td>\n",
              "      <td>54</td>\n",
              "      <td>4.1</td>\n",
              "      <td>22</td>\n",
              "      <td>2.0</td>\n",
              "      <td>749</td>\n",
              "      <td>0</td>\n",
              "      <td>0</td>\n",
              "      <td>1</td>\n",
              "      <td>0</td>\n",
              "      <td>0</td>\n",
              "      <td>119.0</td>\n",
              "      <td>29.6</td>\n",
              "      <td>56.0</td>\n",
              "    </tr>\n",
              "    <tr>\n",
              "      <th>3</th>\n",
              "      <td>Aubameyang</td>\n",
              "      <td>1</td>\n",
              "      <td>3</td>\n",
              "      <td>6.7</td>\n",
              "      <td>113</td>\n",
              "      <td>6.3</td>\n",
              "      <td>71</td>\n",
              "      <td>4.2</td>\n",
              "      <td>1514</td>\n",
              "      <td>5</td>\n",
              "      <td>1</td>\n",
              "      <td>2</td>\n",
              "      <td>0</td>\n",
              "      <td>6</td>\n",
              "      <td>272.2</td>\n",
              "      <td>226.3</td>\n",
              "      <td>519.0</td>\n",
              "    </tr>\n",
              "    <tr>\n",
              "      <th>4</th>\n",
              "      <td>Cédric</td>\n",
              "      <td>1</td>\n",
              "      <td>2</td>\n",
              "      <td>0.2</td>\n",
              "      <td>46</td>\n",
              "      <td>3.3</td>\n",
              "      <td>15</td>\n",
              "      <td>5.0</td>\n",
              "      <td>185</td>\n",
              "      <td>0</td>\n",
              "      <td>1</td>\n",
              "      <td>0</td>\n",
              "      <td>0</td>\n",
              "      <td>3</td>\n",
              "      <td>45.0</td>\n",
              "      <td>54.9</td>\n",
              "      <td>9.0</td>\n",
              "    </tr>\n",
              "  </tbody>\n",
              "</table>\n",
              "</div>"
            ],
            "text/plain": [
              "     web_name  team  element_type  ... influence  creativity threat\n",
              "0        Özil     1             3  ...       0.0         0.0    0.0\n",
              "1    Sokratis     1             2  ...       0.0         0.0    0.0\n",
              "2  David Luiz     1             2  ...     119.0        29.6   56.0\n",
              "3  Aubameyang     1             3  ...     272.2       226.3  519.0\n",
              "4      Cédric     1             2  ...      45.0        54.9    9.0\n",
              "\n",
              "[5 rows x 17 columns]"
            ]
          },
          "metadata": {
            "tags": []
          },
          "execution_count": 9
        }
      ]
    },
    {
      "cell_type": "code",
      "metadata": {
        "colab": {
          "base_uri": "https://localhost:8080/"
        },
        "id": "A_althYdAc1P",
        "outputId": "bb917cde-41af-47f8-dd1d-995039634e0d"
      },
      "source": [
        "# V-lookup map the position name from the elements_type_df to the slim_elements_df .\n",
        "#Add the column position\n",
        "\n",
        "slim_elements_df['position'] = slim_elements_df.element_type.map(elements_types_df.set_index('id').singular_name)"
      ],
      "execution_count": null,
      "outputs": [
        {
          "output_type": "stream",
          "text": [
            "/usr/local/lib/python3.6/dist-packages/ipykernel_launcher.py:4: SettingWithCopyWarning: \n",
            "A value is trying to be set on a copy of a slice from a DataFrame.\n",
            "Try using .loc[row_indexer,col_indexer] = value instead\n",
            "\n",
            "See the caveats in the documentation: https://pandas.pydata.org/pandas-docs/stable/user_guide/indexing.html#returning-a-view-versus-a-copy\n",
            "  after removing the cwd from sys.path.\n"
          ],
          "name": "stderr"
        }
      ]
    },
    {
      "cell_type": "code",
      "metadata": {
        "colab": {
          "base_uri": "https://localhost:8080/",
          "height": 222
        },
        "id": "l-unCYWmArqy",
        "outputId": "24a76600-4ba7-408d-d213-f51be1a0cd36"
      },
      "source": [
        "#Position column will come in handy when we organize value_season by position.\n",
        "slim_elements_df.head()"
      ],
      "execution_count": null,
      "outputs": [
        {
          "output_type": "execute_result",
          "data": {
            "text/html": [
              "<div>\n",
              "<style scoped>\n",
              "    .dataframe tbody tr th:only-of-type {\n",
              "        vertical-align: middle;\n",
              "    }\n",
              "\n",
              "    .dataframe tbody tr th {\n",
              "        vertical-align: top;\n",
              "    }\n",
              "\n",
              "    .dataframe thead th {\n",
              "        text-align: right;\n",
              "    }\n",
              "</style>\n",
              "<table border=\"1\" class=\"dataframe\">\n",
              "  <thead>\n",
              "    <tr style=\"text-align: right;\">\n",
              "      <th></th>\n",
              "      <th>web_name</th>\n",
              "      <th>team</th>\n",
              "      <th>element_type</th>\n",
              "      <th>selected_by_percent</th>\n",
              "      <th>now_cost</th>\n",
              "      <th>value_season</th>\n",
              "      <th>total_points</th>\n",
              "      <th>points_per_game</th>\n",
              "      <th>minutes</th>\n",
              "      <th>goals_scored</th>\n",
              "      <th>assists</th>\n",
              "      <th>yellow_cards</th>\n",
              "      <th>red_cards</th>\n",
              "      <th>bonus</th>\n",
              "      <th>influence</th>\n",
              "      <th>creativity</th>\n",
              "      <th>threat</th>\n",
              "      <th>position</th>\n",
              "    </tr>\n",
              "  </thead>\n",
              "  <tbody>\n",
              "    <tr>\n",
              "      <th>0</th>\n",
              "      <td>Özil</td>\n",
              "      <td>1</td>\n",
              "      <td>3</td>\n",
              "      <td>0.5</td>\n",
              "      <td>67</td>\n",
              "      <td>0.0</td>\n",
              "      <td>0</td>\n",
              "      <td>0.0</td>\n",
              "      <td>0</td>\n",
              "      <td>0</td>\n",
              "      <td>0</td>\n",
              "      <td>0</td>\n",
              "      <td>0</td>\n",
              "      <td>0</td>\n",
              "      <td>0.0</td>\n",
              "      <td>0.0</td>\n",
              "      <td>0.0</td>\n",
              "      <td>Midfielder</td>\n",
              "    </tr>\n",
              "    <tr>\n",
              "      <th>1</th>\n",
              "      <td>Sokratis</td>\n",
              "      <td>1</td>\n",
              "      <td>2</td>\n",
              "      <td>0.1</td>\n",
              "      <td>48</td>\n",
              "      <td>0.0</td>\n",
              "      <td>0</td>\n",
              "      <td>0.0</td>\n",
              "      <td>0</td>\n",
              "      <td>0</td>\n",
              "      <td>0</td>\n",
              "      <td>0</td>\n",
              "      <td>0</td>\n",
              "      <td>0</td>\n",
              "      <td>0.0</td>\n",
              "      <td>0.0</td>\n",
              "      <td>0.0</td>\n",
              "      <td>Defender</td>\n",
              "    </tr>\n",
              "    <tr>\n",
              "      <th>2</th>\n",
              "      <td>David Luiz</td>\n",
              "      <td>1</td>\n",
              "      <td>2</td>\n",
              "      <td>0.8</td>\n",
              "      <td>54</td>\n",
              "      <td>4.1</td>\n",
              "      <td>22</td>\n",
              "      <td>2.0</td>\n",
              "      <td>749</td>\n",
              "      <td>0</td>\n",
              "      <td>0</td>\n",
              "      <td>1</td>\n",
              "      <td>0</td>\n",
              "      <td>0</td>\n",
              "      <td>119.0</td>\n",
              "      <td>29.6</td>\n",
              "      <td>56.0</td>\n",
              "      <td>Defender</td>\n",
              "    </tr>\n",
              "    <tr>\n",
              "      <th>3</th>\n",
              "      <td>Aubameyang</td>\n",
              "      <td>1</td>\n",
              "      <td>3</td>\n",
              "      <td>6.7</td>\n",
              "      <td>113</td>\n",
              "      <td>6.3</td>\n",
              "      <td>71</td>\n",
              "      <td>4.2</td>\n",
              "      <td>1514</td>\n",
              "      <td>5</td>\n",
              "      <td>1</td>\n",
              "      <td>2</td>\n",
              "      <td>0</td>\n",
              "      <td>6</td>\n",
              "      <td>272.2</td>\n",
              "      <td>226.3</td>\n",
              "      <td>519.0</td>\n",
              "      <td>Midfielder</td>\n",
              "    </tr>\n",
              "    <tr>\n",
              "      <th>4</th>\n",
              "      <td>Cédric</td>\n",
              "      <td>1</td>\n",
              "      <td>2</td>\n",
              "      <td>0.2</td>\n",
              "      <td>46</td>\n",
              "      <td>3.3</td>\n",
              "      <td>15</td>\n",
              "      <td>5.0</td>\n",
              "      <td>185</td>\n",
              "      <td>0</td>\n",
              "      <td>1</td>\n",
              "      <td>0</td>\n",
              "      <td>0</td>\n",
              "      <td>3</td>\n",
              "      <td>45.0</td>\n",
              "      <td>54.9</td>\n",
              "      <td>9.0</td>\n",
              "      <td>Defender</td>\n",
              "    </tr>\n",
              "  </tbody>\n",
              "</table>\n",
              "</div>"
            ],
            "text/plain": [
              "     web_name  team  element_type  ... creativity  threat    position\n",
              "0        Özil     1             3  ...        0.0     0.0  Midfielder\n",
              "1    Sokratis     1             2  ...        0.0     0.0    Defender\n",
              "2  David Luiz     1             2  ...       29.6    56.0    Defender\n",
              "3  Aubameyang     1             3  ...      226.3   519.0  Midfielder\n",
              "4      Cédric     1             2  ...       54.9     9.0    Defender\n",
              "\n",
              "[5 rows x 18 columns]"
            ]
          },
          "metadata": {
            "tags": []
          },
          "execution_count": 11
        }
      ]
    },
    {
      "cell_type": "code",
      "metadata": {
        "colab": {
          "base_uri": "https://localhost:8080/"
        },
        "id": "XzqeQdWiBfSv",
        "outputId": "b4eb0e93-382c-45a0-d8d1-d9511bc203ea"
      },
      "source": [
        "#mapping “name” from our teams_df:\n",
        "slim_elements_df['team'] = slim_elements_df.team.map(teams_df.set_index('id').name)"
      ],
      "execution_count": null,
      "outputs": [
        {
          "output_type": "stream",
          "text": [
            "/usr/local/lib/python3.6/dist-packages/ipykernel_launcher.py:2: SettingWithCopyWarning: \n",
            "A value is trying to be set on a copy of a slice from a DataFrame.\n",
            "Try using .loc[row_indexer,col_indexer] = value instead\n",
            "\n",
            "See the caveats in the documentation: https://pandas.pydata.org/pandas-docs/stable/user_guide/indexing.html#returning-a-view-versus-a-copy\n",
            "  \n"
          ],
          "name": "stderr"
        }
      ]
    },
    {
      "cell_type": "code",
      "metadata": {
        "colab": {
          "base_uri": "https://localhost:8080/"
        },
        "id": "Yau20J1lCTIm",
        "outputId": "498d9501-0ce7-4143-ad7e-e412c487b53d"
      },
      "source": [
        "#Next, let’s sort this table by value_season to look at the top value picks this year.\n",
        "#Convert values to integers\n",
        "slim_elements_df['value'] = slim_elements_df.value_season.astype(float)"
      ],
      "execution_count": null,
      "outputs": [
        {
          "output_type": "stream",
          "text": [
            "/usr/local/lib/python3.6/dist-packages/ipykernel_launcher.py:3: SettingWithCopyWarning: \n",
            "A value is trying to be set on a copy of a slice from a DataFrame.\n",
            "Try using .loc[row_indexer,col_indexer] = value instead\n",
            "\n",
            "See the caveats in the documentation: https://pandas.pydata.org/pandas-docs/stable/user_guide/indexing.html#returning-a-view-versus-a-copy\n",
            "  This is separate from the ipykernel package so we can avoid doing imports until\n"
          ],
          "name": "stderr"
        }
      ]
    },
    {
      "cell_type": "markdown",
      "metadata": {
        "id": "_WyfSjGLDuFj"
      },
      "source": [
        "#** value = points / cost ![alt text](https://www.investopedia.com/thmb/IrfWjCyQXQ-7zM8jqgWu59y2jQI=/1200x675/smart/filters:no_upscale()/value1-d760aa25452542fa8d6a9f56ce165e29.jpg)"
      ]
    },
    {
      "cell_type": "code",
      "metadata": {
        "colab": {
          "base_uri": "https://localhost:8080/",
          "height": 375
        },
        "id": "OVvu70DWC2XE",
        "outputId": "aeecaa9a-2d05-4c24-8bb0-15641c09c78c"
      },
      "source": [
        "#Sort_values() allows you to, well, sort values:\n",
        "slim_elements_df.sort_values('value',ascending=False).head(10)"
      ],
      "execution_count": null,
      "outputs": [
        {
          "output_type": "execute_result",
          "data": {
            "text/html": [
              "<div>\n",
              "<style scoped>\n",
              "    .dataframe tbody tr th:only-of-type {\n",
              "        vertical-align: middle;\n",
              "    }\n",
              "\n",
              "    .dataframe tbody tr th {\n",
              "        vertical-align: top;\n",
              "    }\n",
              "\n",
              "    .dataframe thead th {\n",
              "        text-align: right;\n",
              "    }\n",
              "</style>\n",
              "<table border=\"1\" class=\"dataframe\">\n",
              "  <thead>\n",
              "    <tr style=\"text-align: right;\">\n",
              "      <th></th>\n",
              "      <th>web_name</th>\n",
              "      <th>team</th>\n",
              "      <th>element_type</th>\n",
              "      <th>selected_by_percent</th>\n",
              "      <th>now_cost</th>\n",
              "      <th>value_season</th>\n",
              "      <th>total_points</th>\n",
              "      <th>points_per_game</th>\n",
              "      <th>minutes</th>\n",
              "      <th>goals_scored</th>\n",
              "      <th>assists</th>\n",
              "      <th>yellow_cards</th>\n",
              "      <th>red_cards</th>\n",
              "      <th>bonus</th>\n",
              "      <th>influence</th>\n",
              "      <th>creativity</th>\n",
              "      <th>threat</th>\n",
              "      <th>position</th>\n",
              "      <th>value</th>\n",
              "    </tr>\n",
              "  </thead>\n",
              "  <tbody>\n",
              "    <tr>\n",
              "      <th>35</th>\n",
              "      <td>Martínez</td>\n",
              "      <td>Aston Villa</td>\n",
              "      <td>1</td>\n",
              "      <td>32.8</td>\n",
              "      <td>51</td>\n",
              "      <td>18.2</td>\n",
              "      <td>93</td>\n",
              "      <td>5.2</td>\n",
              "      <td>1620</td>\n",
              "      <td>0</td>\n",
              "      <td>0</td>\n",
              "      <td>0</td>\n",
              "      <td>0</td>\n",
              "      <td>10</td>\n",
              "      <td>481.8</td>\n",
              "      <td>20.0</td>\n",
              "      <td>0.0</td>\n",
              "      <td>Goalkeeper</td>\n",
              "      <td>18.2</td>\n",
              "    </tr>\n",
              "    <tr>\n",
              "      <th>597</th>\n",
              "      <td>Soucek</td>\n",
              "      <td>West Ham</td>\n",
              "      <td>3</td>\n",
              "      <td>18.4</td>\n",
              "      <td>53</td>\n",
              "      <td>18.1</td>\n",
              "      <td>96</td>\n",
              "      <td>4.8</td>\n",
              "      <td>1800</td>\n",
              "      <td>7</td>\n",
              "      <td>1</td>\n",
              "      <td>2</td>\n",
              "      <td>0</td>\n",
              "      <td>13</td>\n",
              "      <td>494.6</td>\n",
              "      <td>109.6</td>\n",
              "      <td>586.0</td>\n",
              "      <td>Midfielder</td>\n",
              "      <td>18.1</td>\n",
              "    </tr>\n",
              "    <tr>\n",
              "      <th>119</th>\n",
              "      <td>Pope</td>\n",
              "      <td>Burnley</td>\n",
              "      <td>1</td>\n",
              "      <td>11.0</td>\n",
              "      <td>54</td>\n",
              "      <td>17.6</td>\n",
              "      <td>95</td>\n",
              "      <td>5.3</td>\n",
              "      <td>1620</td>\n",
              "      <td>0</td>\n",
              "      <td>0</td>\n",
              "      <td>0</td>\n",
              "      <td>0</td>\n",
              "      <td>17</td>\n",
              "      <td>547.0</td>\n",
              "      <td>10.0</td>\n",
              "      <td>0.0</td>\n",
              "      <td>Goalkeeper</td>\n",
              "      <td>17.6</td>\n",
              "    </tr>\n",
              "    <tr>\n",
              "      <th>584</th>\n",
              "      <td>Cresswell</td>\n",
              "      <td>West Ham</td>\n",
              "      <td>2</td>\n",
              "      <td>19.9</td>\n",
              "      <td>55</td>\n",
              "      <td>16.7</td>\n",
              "      <td>92</td>\n",
              "      <td>4.6</td>\n",
              "      <td>1800</td>\n",
              "      <td>0</td>\n",
              "      <td>7</td>\n",
              "      <td>0</td>\n",
              "      <td>0</td>\n",
              "      <td>11</td>\n",
              "      <td>399.0</td>\n",
              "      <td>485.3</td>\n",
              "      <td>51.0</td>\n",
              "      <td>Defender</td>\n",
              "      <td>16.7</td>\n",
              "    </tr>\n",
              "    <tr>\n",
              "      <th>50</th>\n",
              "      <td>Targett</td>\n",
              "      <td>Aston Villa</td>\n",
              "      <td>2</td>\n",
              "      <td>6.4</td>\n",
              "      <td>47</td>\n",
              "      <td>16.6</td>\n",
              "      <td>78</td>\n",
              "      <td>4.3</td>\n",
              "      <td>1604</td>\n",
              "      <td>0</td>\n",
              "      <td>3</td>\n",
              "      <td>4</td>\n",
              "      <td>0</td>\n",
              "      <td>5</td>\n",
              "      <td>290.0</td>\n",
              "      <td>225.1</td>\n",
              "      <td>80.0</td>\n",
              "      <td>Defender</td>\n",
              "      <td>16.6</td>\n",
              "    </tr>\n",
              "    <tr>\n",
              "      <th>495</th>\n",
              "      <td>Bednarek</td>\n",
              "      <td>Southampton</td>\n",
              "      <td>2</td>\n",
              "      <td>12.6</td>\n",
              "      <td>49</td>\n",
              "      <td>16.5</td>\n",
              "      <td>81</td>\n",
              "      <td>4.3</td>\n",
              "      <td>1620</td>\n",
              "      <td>1</td>\n",
              "      <td>1</td>\n",
              "      <td>1</td>\n",
              "      <td>0</td>\n",
              "      <td>11</td>\n",
              "      <td>393.2</td>\n",
              "      <td>42.7</td>\n",
              "      <td>95.0</td>\n",
              "      <td>Defender</td>\n",
              "      <td>16.5</td>\n",
              "    </tr>\n",
              "    <tr>\n",
              "      <th>7</th>\n",
              "      <td>Leno</td>\n",
              "      <td>Arsenal</td>\n",
              "      <td>1</td>\n",
              "      <td>9.1</td>\n",
              "      <td>50</td>\n",
              "      <td>16.4</td>\n",
              "      <td>82</td>\n",
              "      <td>4.1</td>\n",
              "      <td>1800</td>\n",
              "      <td>0</td>\n",
              "      <td>0</td>\n",
              "      <td>0</td>\n",
              "      <td>0</td>\n",
              "      <td>6</td>\n",
              "      <td>411.0</td>\n",
              "      <td>0.0</td>\n",
              "      <td>0.0</td>\n",
              "      <td>Goalkeeper</td>\n",
              "      <td>16.4</td>\n",
              "    </tr>\n",
              "    <tr>\n",
              "      <th>483</th>\n",
              "      <td>McCarthy</td>\n",
              "      <td>Southampton</td>\n",
              "      <td>1</td>\n",
              "      <td>18.9</td>\n",
              "      <td>46</td>\n",
              "      <td>15.9</td>\n",
              "      <td>73</td>\n",
              "      <td>4.1</td>\n",
              "      <td>1620</td>\n",
              "      <td>0</td>\n",
              "      <td>0</td>\n",
              "      <td>1</td>\n",
              "      <td>0</td>\n",
              "      <td>7</td>\n",
              "      <td>417.6</td>\n",
              "      <td>0.0</td>\n",
              "      <td>0.0</td>\n",
              "      <td>Goalkeeper</td>\n",
              "      <td>15.9</td>\n",
              "    </tr>\n",
              "    <tr>\n",
              "      <th>295</th>\n",
              "      <td>Bamford</td>\n",
              "      <td>Leeds</td>\n",
              "      <td>4</td>\n",
              "      <td>47.3</td>\n",
              "      <td>66</td>\n",
              "      <td>15.8</td>\n",
              "      <td>104</td>\n",
              "      <td>5.5</td>\n",
              "      <td>1605</td>\n",
              "      <td>10</td>\n",
              "      <td>5</td>\n",
              "      <td>1</td>\n",
              "      <td>0</td>\n",
              "      <td>13</td>\n",
              "      <td>433.8</td>\n",
              "      <td>124.9</td>\n",
              "      <td>878.0</td>\n",
              "      <td>Forward</td>\n",
              "      <td>15.8</td>\n",
              "    </tr>\n",
              "    <tr>\n",
              "      <th>580</th>\n",
              "      <td>Fabianski</td>\n",
              "      <td>West Ham</td>\n",
              "      <td>1</td>\n",
              "      <td>3.9</td>\n",
              "      <td>51</td>\n",
              "      <td>15.7</td>\n",
              "      <td>80</td>\n",
              "      <td>4.2</td>\n",
              "      <td>1710</td>\n",
              "      <td>0</td>\n",
              "      <td>0</td>\n",
              "      <td>1</td>\n",
              "      <td>0</td>\n",
              "      <td>9</td>\n",
              "      <td>398.4</td>\n",
              "      <td>0.0</td>\n",
              "      <td>0.0</td>\n",
              "      <td>Goalkeeper</td>\n",
              "      <td>15.7</td>\n",
              "    </tr>\n",
              "  </tbody>\n",
              "</table>\n",
              "</div>"
            ],
            "text/plain": [
              "      web_name         team  element_type  ... threat    position value\n",
              "35    Martínez  Aston Villa             1  ...    0.0  Goalkeeper  18.2\n",
              "597     Soucek     West Ham             3  ...  586.0  Midfielder  18.1\n",
              "119       Pope      Burnley             1  ...    0.0  Goalkeeper  17.6\n",
              "584  Cresswell     West Ham             2  ...   51.0    Defender  16.7\n",
              "50     Targett  Aston Villa             2  ...   80.0    Defender  16.6\n",
              "495   Bednarek  Southampton             2  ...   95.0    Defender  16.5\n",
              "7         Leno      Arsenal             1  ...    0.0  Goalkeeper  16.4\n",
              "483   McCarthy  Southampton             1  ...    0.0  Goalkeeper  15.9\n",
              "295    Bamford        Leeds             4  ...  878.0     Forward  15.8\n",
              "580  Fabianski     West Ham             1  ...    0.0  Goalkeeper  15.7\n",
              "\n",
              "[10 rows x 19 columns]"
            ]
          },
          "metadata": {
            "tags": []
          },
          "execution_count": 14
        }
      ]
    },
    {
      "cell_type": "code",
      "metadata": {
        "colab": {
          "base_uri": "https://localhost:8080/",
          "height": 171
        },
        "id": "PjUMoyloDJ2a",
        "outputId": "0aae35b2-31fb-430e-ff1e-2501b7cafc83"
      },
      "source": [
        "#Create a pivot_table on the column position , and look at value-by-position:\n",
        "slim_elements_df.pivot_table(index='position',values='value',aggfunc=np.mean).reset_index()"
      ],
      "execution_count": null,
      "outputs": [
        {
          "output_type": "execute_result",
          "data": {
            "text/html": [
              "<div>\n",
              "<style scoped>\n",
              "    .dataframe tbody tr th:only-of-type {\n",
              "        vertical-align: middle;\n",
              "    }\n",
              "\n",
              "    .dataframe tbody tr th {\n",
              "        vertical-align: top;\n",
              "    }\n",
              "\n",
              "    .dataframe thead th {\n",
              "        text-align: right;\n",
              "    }\n",
              "</style>\n",
              "<table border=\"1\" class=\"dataframe\">\n",
              "  <thead>\n",
              "    <tr style=\"text-align: right;\">\n",
              "      <th></th>\n",
              "      <th>position</th>\n",
              "      <th>value</th>\n",
              "    </tr>\n",
              "  </thead>\n",
              "  <tbody>\n",
              "    <tr>\n",
              "      <th>0</th>\n",
              "      <td>Defender</td>\n",
              "      <td>4.773128</td>\n",
              "    </tr>\n",
              "    <tr>\n",
              "      <th>1</th>\n",
              "      <td>Forward</td>\n",
              "      <td>4.172619</td>\n",
              "    </tr>\n",
              "    <tr>\n",
              "      <th>2</th>\n",
              "      <td>Goalkeeper</td>\n",
              "      <td>3.912162</td>\n",
              "    </tr>\n",
              "    <tr>\n",
              "      <th>3</th>\n",
              "      <td>Midfielder</td>\n",
              "      <td>4.528846</td>\n",
              "    </tr>\n",
              "  </tbody>\n",
              "</table>\n",
              "</div>"
            ],
            "text/plain": [
              "     position     value\n",
              "0    Defender  4.773128\n",
              "1     Forward  4.172619\n",
              "2  Goalkeeper  3.912162\n",
              "3  Midfielder  4.528846"
            ]
          },
          "metadata": {
            "tags": []
          },
          "execution_count": 15
        }
      ]
    },
    {
      "cell_type": "code",
      "metadata": {
        "colab": {
          "base_uri": "https://localhost:8080/"
        },
        "id": "GS9ORDM5f738",
        "outputId": "fb2ad620-d6d3-4003-f425-5e94abf5ee45"
      },
      "source": [
        "slim_elements_df.columns"
      ],
      "execution_count": null,
      "outputs": [
        {
          "output_type": "execute_result",
          "data": {
            "text/plain": [
              "Index(['web_name', 'team', 'element_type', 'selected_by_percent', 'now_cost',\n",
              "       'value_season', 'total_points', 'points_per_game', 'minutes',\n",
              "       'goals_scored', 'assists', 'yellow_cards', 'red_cards', 'bonus',\n",
              "       'influence', 'creativity', 'threat', 'position', 'value'],\n",
              "      dtype='object')"
            ]
          },
          "metadata": {
            "tags": []
          },
          "execution_count": 16
        }
      ]
    },
    {
      "cell_type": "code",
      "metadata": {
        "id": "_oVIw7YAhOdA"
      },
      "source": [
        "import seaborn as sns"
      ],
      "execution_count": null,
      "outputs": []
    },
    {
      "cell_type": "code",
      "metadata": {
        "colab": {
          "base_uri": "https://localhost:8080/"
        },
        "id": "4UtlYqy4iJ2t",
        "outputId": "424a1dbb-715a-48fc-f914-b97feffcc89c"
      },
      "source": [
        "correlation = slim_elements_df.corr(method='pearson')\n",
        "columns = correlation.nlargest(10, 'total_points').index\n",
        "columns"
      ],
      "execution_count": null,
      "outputs": [
        {
          "output_type": "execute_result",
          "data": {
            "text/plain": [
              "Index(['total_points', 'value', 'minutes', 'bonus', 'goals_scored', 'assists',\n",
              "       'now_cost', 'yellow_cards', 'element_type', 'red_cards'],\n",
              "      dtype='object')"
            ]
          },
          "metadata": {
            "tags": []
          },
          "execution_count": 18
        }
      ]
    },
    {
      "cell_type": "markdown",
      "metadata": {
        "id": "g8WXAOhuxRd8"
      },
      "source": [
        "# Feature Correlate"
      ]
    },
    {
      "cell_type": "code",
      "metadata": {
        "colab": {
          "base_uri": "https://localhost:8080/",
          "height": 616
        },
        "id": "ud-wCxGLid3F",
        "outputId": "974447da-b7b4-4861-afe6-02e9365d2151"
      },
      "source": [
        "import matplotlib.pyplot as plt\n",
        "plt.figure(figsize=(10,10))\n",
        "correlation_map = np.corrcoef(slim_elements_df[columns].values.T)\n",
        "sns.set(font_scale=1.0)\n",
        "heatmap = sns.heatmap(correlation_map, cbar=True, annot=True, square=True, fmt='.2f', yticklabels=columns.values, xticklabels=columns.values)\n",
        "\n",
        "plt.show()"
      ],
      "execution_count": null,
      "outputs": [
        {
          "output_type": "display_data",
          "data": {
            "image/png": "[encoded data removed]",
            "text/plain": [
              "<Figure size 720x720 with 2 Axes>"
            ]
          },
          "metadata": {
            "tags": []
          }
        }
      ]
    },
    {
      "cell_type": "code",
      "metadata": {
        "id": "LZ34fgC6jvl5"
      },
      "source": [
        "X = slim_elements_df[columns]\n",
        "Y = X['total_points'].values\n",
        "X = X.drop('total_points', axis = 1).values"
      ],
      "execution_count": null,
      "outputs": []
    },
    {
      "cell_type": "markdown",
      "metadata": {
        "id": "0YPsSysBkbvy"
      },
      "source": [
        "# Baseline algorithm test\n",
        "\n",
        "There are a few regression algorithms I can use. I prefer to line the usable regression algorithms up and run them using a standard set of data. I check the negative mean square error of each run. The given data set is broken down into training set and testing set."
      ]
    },
    {
      "cell_type": "code",
      "metadata": {
        "id": "UzI3_cfAkhUA"
      },
      "source": [
        "from sklearn.model_selection import train_test_split\n",
        "X_train, X_test, Y_train, Y_test = train_test_split (X, Y, test_size = 0.20, random_state=42)"
      ],
      "execution_count": null,
      "outputs": []
    },
    {
      "cell_type": "code",
      "metadata": {
        "id": "hBXGmW39k1K5"
      },
      "source": [
        "from sklearn.linear_model import LinearRegression\n",
        "from sklearn.linear_model import Lasso\n",
        "from sklearn.linear_model import ElasticNet\n",
        "from sklearn.tree import DecisionTreeRegressor\n",
        "from sklearn.neighbors import KNeighborsRegressor\n",
        "from sklearn.ensemble import GradientBoostingRegressor\n",
        "import xgboost as xgb\n",
        "\n",
        "from sklearn.feature_selection import RFE\n",
        "from sklearn.model_selection import train_test_split\n",
        "from sklearn.model_selection import cross_val_score\n",
        "from sklearn.model_selection import KFold\n",
        "from sklearn.pipeline import Pipeline\n",
        "from sklearn.preprocessing import StandardScaler"
      ],
      "execution_count": null,
      "outputs": []
    },
    {
      "cell_type": "code",
      "metadata": {
        "colab": {
          "background_save": true,
          "base_uri": "https://localhost:8080/"
        },
        "id": "G2D9Qnp-k3IY",
        "outputId": "1b86f095-08d3-4a14-bbfd-6bb2f2441234"
      },
      "source": [
        "pipelines = []\n",
        "pipelines.append(('ScaledLR', Pipeline([('Scaler', StandardScaler()),('LR',LinearRegression())])))\n",
        "pipelines.append(('ScaledLASSO', Pipeline([('Scaler', StandardScaler()),('LASSO', Lasso())])))\n",
        "pipelines.append(('ScaledEN', Pipeline([('Scaler', StandardScaler()),('EN', ElasticNet())])))\n",
        "pipelines.append(('ScaledKNN', Pipeline([('Scaler', StandardScaler()),('KNN', KNeighborsRegressor())])))\n",
        "pipelines.append(('ScaledCART', Pipeline([('Scaler', StandardScaler()),('CART', DecisionTreeRegressor())])))\n",
        "pipelines.append(('ScaledGBM', Pipeline([('Scaler', StandardScaler()),('GBM', GradientBoostingRegressor())])))\n",
        "pipelines.append(('ScaledXGB', Pipeline([('Scaler', StandardScaler()),('XGB', xgb.XGBRegressor())])))\n",
        "\n",
        "results = []\n",
        "names = []\n",
        "for name, model in pipelines:\n",
        "    kfold = KFold(n_splits=10,shuffle=True, random_state=21)\n",
        "    cv_results = cross_val_score(model, X_train, Y_train, cv=kfold, scoring='neg_mean_squared_error')\n",
        "    results.append(cv_results)\n",
        "    names.append(name)\n",
        "    msg = \"%s: %f (%f)\" % (name, cv_results.mean(), cv_results.std())\n",
        "    print(msg)"
      ],
      "execution_count": null,
      "outputs": [
        {
          "output_type": "stream",
          "text": [
            "ScaledLR: -10.150202 (3.826452)\n",
            "ScaledLASSO: -14.409484 (6.204086)\n",
            "ScaledEN: -38.861505 (10.046372)\n",
            "ScaledKNN: -44.530101 (13.840609)\n",
            "ScaledCART: -28.030538 (16.024061)\n",
            "ScaledGBM: -10.366386 (7.188784)\n",
            "[17:10:44] WARNING: /workspace/src/objective/regression_obj.cu:152: reg:linear is now deprecated in favor of reg:squarederror.\n",
            "[17:10:44] WARNING: /workspace/src/objective/regression_obj.cu:152: reg:linear is now deprecated in favor of reg:squarederror.\n",
            "[17:10:44] WARNING: /workspace/src/objective/regression_obj.cu:152: reg:linear is now deprecated in favor of reg:squarederror.\n",
            "[17:10:44] WARNING: /workspace/src/objective/regression_obj.cu:152: reg:linear is now deprecated in favor of reg:squarederror.\n",
            "[17:10:44] WARNING: /workspace/src/objective/regression_obj.cu:152: reg:linear is now deprecated in favor of reg:squarederror.\n",
            "[17:10:44] WARNING: /workspace/src/objective/regression_obj.cu:152: reg:linear is now deprecated in favor of reg:squarederror.\n",
            "[17:10:44] WARNING: /workspace/src/objective/regression_obj.cu:152: reg:linear is now deprecated in favor of reg:squarederror.\n",
            "[17:10:44] WARNING: /workspace/src/objective/regression_obj.cu:152: reg:linear is now deprecated in favor of reg:squarederror.\n",
            "[17:10:45] WARNING: /workspace/src/objective/regression_obj.cu:152: reg:linear is now deprecated in favor of reg:squarederror.\n",
            "[17:10:45] WARNING: /workspace/src/objective/regression_obj.cu:152: reg:linear is now deprecated in favor of reg:squarederror.\n",
            "ScaledXGB: -10.618265 (7.607267)\n"
          ],
          "name": "stdout"
        }
      ]
    },
    {
      "cell_type": "code",
      "metadata": {
        "colab": {
          "background_save": true,
          "base_uri": "https://localhost:8080/"
        },
        "id": "mddk3RtkmWtM",
        "outputId": "31d52451-43d7-4a54-bd62-30eee8604a7c"
      },
      "source": [
        "from sklearn.metrics import mean_squared_error\n",
        "from sklearn.model_selection import cross_val_score\n",
        "import xgboost as xgb\n",
        "\n",
        "model = xgb.XGBRegressor()\n",
        "model.fit(X_train, Y_train)\n",
        "\n",
        "\n",
        "predictions = model.predict(X_test)\n",
        "print (mean_squared_error(Y_test, predictions))\n",
        "# importing the LinearRegression class from linear_model submodule of scikit learn\n",
        "\n",
        "\n",
        "\n",
        "# Importing cross_val_score function from the model_selection submodule of scikit learn\n",
        "\n"
      ],
      "execution_count": null,
      "outputs": [
        {
          "output_type": "stream",
          "text": [
            "[17:10:45] WARNING: /workspace/src/objective/regression_obj.cu:152: reg:linear is now deprecated in favor of reg:squarederror.\n",
            "13.407925087017173\n"
          ],
          "name": "stdout"
        }
      ]
    },
    {
      "cell_type": "code",
      "metadata": {
        "colab": {
          "background_save": true,
          "base_uri": "https://localhost:8080/",
          "height": 355
        },
        "id": "_coXI9ttmimO",
        "outputId": "69c34f2d-d8f2-4944-8c66-0e6a9aaf1d0c"
      },
      "source": [
        "compare = pd.DataFrame({'Prediction': predictions, 'Test Data' : Y_test})\n",
        "compare.head(10)"
      ],
      "execution_count": null,
      "outputs": [
        {
          "output_type": "execute_result",
          "data": {
            "text/html": [
              "<div>\n",
              "<style scoped>\n",
              "    .dataframe tbody tr th:only-of-type {\n",
              "        vertical-align: middle;\n",
              "    }\n",
              "\n",
              "    .dataframe tbody tr th {\n",
              "        vertical-align: top;\n",
              "    }\n",
              "\n",
              "    .dataframe thead th {\n",
              "        text-align: right;\n",
              "    }\n",
              "</style>\n",
              "<table border=\"1\" class=\"dataframe\">\n",
              "  <thead>\n",
              "    <tr style=\"text-align: right;\">\n",
              "      <th></th>\n",
              "      <th>Prediction</th>\n",
              "      <th>Test Data</th>\n",
              "    </tr>\n",
              "  </thead>\n",
              "  <tbody>\n",
              "    <tr>\n",
              "      <th>0</th>\n",
              "      <td>31.350119</td>\n",
              "      <td>32</td>\n",
              "    </tr>\n",
              "    <tr>\n",
              "      <th>1</th>\n",
              "      <td>53.233246</td>\n",
              "      <td>54</td>\n",
              "    </tr>\n",
              "    <tr>\n",
              "      <th>2</th>\n",
              "      <td>3.023939</td>\n",
              "      <td>3</td>\n",
              "    </tr>\n",
              "    <tr>\n",
              "      <th>3</th>\n",
              "      <td>39.713821</td>\n",
              "      <td>39</td>\n",
              "    </tr>\n",
              "    <tr>\n",
              "      <th>4</th>\n",
              "      <td>18.003517</td>\n",
              "      <td>16</td>\n",
              "    </tr>\n",
              "    <tr>\n",
              "      <th>5</th>\n",
              "      <td>0.127016</td>\n",
              "      <td>0</td>\n",
              "    </tr>\n",
              "    <tr>\n",
              "      <th>6</th>\n",
              "      <td>15.655908</td>\n",
              "      <td>16</td>\n",
              "    </tr>\n",
              "    <tr>\n",
              "      <th>7</th>\n",
              "      <td>38.071335</td>\n",
              "      <td>38</td>\n",
              "    </tr>\n",
              "    <tr>\n",
              "      <th>8</th>\n",
              "      <td>12.251307</td>\n",
              "      <td>11</td>\n",
              "    </tr>\n",
              "    <tr>\n",
              "      <th>9</th>\n",
              "      <td>-0.042660</td>\n",
              "      <td>0</td>\n",
              "    </tr>\n",
              "  </tbody>\n",
              "</table>\n",
              "</div>"
            ],
            "text/plain": [
              "   Prediction  Test Data\n",
              "0   31.350119         32\n",
              "1   53.233246         54\n",
              "2    3.023939          3\n",
              "3   39.713821         39\n",
              "4   18.003517         16\n",
              "5    0.127016          0\n",
              "6   15.655908         16\n",
              "7   38.071335         38\n",
              "8   12.251307         11\n",
              "9   -0.042660          0"
            ]
          },
          "metadata": {
            "tags": []
          },
          "execution_count": 0
        }
      ]
    },
    {
      "cell_type": "code",
      "metadata": {
        "colab": {
          "base_uri": "https://localhost:8080/"
        },
        "id": "iNmDaa_Q1XK1",
        "outputId": "11ad0264-48d2-4cb0-916f-5ae662643705"
      },
      "source": [
        "pip install pulp"
      ],
      "execution_count": null,
      "outputs": [
        {
          "output_type": "stream",
          "text": [
            "Collecting pulp\n",
            "\u001b[?25l  Downloading https://files.pythonhosted.org/packages/14/c4/0eec14a0123209c261de6ff154ef3be5cad3fd557c084f468356662e0585/PuLP-2.4-py3-none-any.whl (40.6MB)\n",
            "\u001b[K     |████████████████████████████████| 40.6MB 107kB/s \n",
            "\u001b[?25hCollecting amply>=0.1.2\n",
            "  Downloading https://files.pythonhosted.org/packages/f3/c5/dfa09dd2595a2ab2ab4e6fa7bebef9565812722e1980d04b0edce5032066/amply-0.1.4-py3-none-any.whl\n",
            "Requirement already satisfied: docutils>=0.3 in /usr/local/lib/python3.6/dist-packages (from amply>=0.1.2->pulp) (0.16)\n",
            "Requirement already satisfied: pyparsing in /usr/local/lib/python3.6/dist-packages (from amply>=0.1.2->pulp) (2.4.7)\n",
            "Installing collected packages: amply, pulp\n",
            "Successfully installed amply-0.1.4 pulp-2.4\n"
          ],
          "name": "stdout"
        }
      ]
    },
    {
      "cell_type": "markdown",
      "metadata": {
        "id": "X8bfWImW0zCA"
      },
      "source": [
        "# Linear Optimization\n",
        "![alt text](https://ds055uzetaobb.cloudfront.net/brioche/uploads/3mbYZ5LMun-linear-programming-proof.png?width=1200)"
      ]
    },
    {
      "cell_type": "code",
      "metadata": {
        "id": "YeLZUcy7HI_y"
      },
      "source": [
        "chance=elements_df['chance_of_playing_this_round']\n",
        "expected_scores = elements_df[\"total_points\"]  # total points from last season\n",
        "prices = elements_df[\"now_cost\"] / 10\n",
        "positions =elements_df[\"element_type\"]\n",
        "clubs = elements_df[\"team_code\"]\n",
        "names=elements_df['web_name']\n",
        "\n"
      ],
      "execution_count": null,
      "outputs": []
    },
    {
      "cell_type": "code",
      "metadata": {
        "id": "vqasTBbewkz1"
      },
      "source": [
        "import pulp\n",
        "def select_team(expected_scores, prices, positions, clubs, total_budget=100, sub_factor=0.2):\n",
        "    num_players = len(expected_scores)\n",
        "    model = pulp.LpProblem(\"Constrained value maximisation\", pulp.LpMaximize)\n",
        "    decisions = [\n",
        "        pulp.LpVariable(\"x{}\".format(i), lowBound=0, upBound=1, cat='Integer')\n",
        "        for i in range(num_players)\n",
        "    ]\n",
        "    captain_decisions = [\n",
        "        pulp.LpVariable(\"y{}\".format(i), lowBound=0, upBound=1, cat='Integer')\n",
        "        for i in range(num_players)\n",
        "    ]\n",
        "    sub_decisions = [\n",
        "        pulp.LpVariable(\"z{}\".format(i), lowBound=0, upBound=1, cat='Integer')\n",
        "        for i in range(num_players)\n",
        "    ]\n",
        " \n",
        " \n",
        "    # objective function:\n",
        "    model += sum((captain_decisions[i] + decisions[i] + sub_decisions[i]*sub_factor) * expected_scores[i]\n",
        "                 for i in range(num_players)), \"Objective\"\n",
        " \n",
        "    # cost constraint\n",
        "    model += sum((decisions[i] + sub_decisions[i]) * prices[i] for i in range(num_players)) <= total_budget  # total cost\n",
        " \n",
        "    # position constraints\n",
        " \n",
        "    # 1 starting goalkeeper\n",
        "    model += sum(decisions[i] for i in range(num_players) if positions[i] == 1) == 1\n",
        "    # 2 total goalkeepers\n",
        "    model += sum(decisions[i] + sub_decisions[i] for i in range(num_players) if positions[i] == 1) == 2\n",
        " \n",
        "    # 3-5 starting defenders\n",
        "    model += sum(decisions[i] for i in range(num_players) if positions[i] == 2) >= 3\n",
        "    model += sum(decisions[i] for i in range(num_players) if positions[i] == 2) <= 5\n",
        "    # 5 total defenders\n",
        "    model += sum(decisions[i] + sub_decisions[i] for i in range(num_players) if positions[i] == 2) == 5\n",
        " \n",
        "    # 3-5 starting midfielders\n",
        "    model += sum(decisions[i] for i in range(num_players) if positions[i] == 3) >= 3\n",
        "    model += sum(decisions[i] for i in range(num_players) if positions[i] == 3) <= 5\n",
        "    # 5 total midfielders\n",
        "    model += sum(decisions[i] + sub_decisions[i] for i in range(num_players) if positions[i] == 3) == 5\n",
        " \n",
        "    # 1-3 starting attackers\n",
        "    model += sum(decisions[i] for i in range(num_players) if positions[i] == 4) >= 1\n",
        "    model += sum(decisions[i] for i in range(num_players) if positions[i] == 4) <= 3\n",
        "    # 3 total attackers\n",
        "    model += sum(decisions[i] + sub_decisions[i] for i in range(num_players) if positions[i] == 4) == 3\n",
        " \n",
        "    # club constraint\n",
        "    for club_id in np.unique(clubs):\n",
        "        model += sum(decisions[i] + sub_decisions[i] for i in range(num_players) if clubs[i] == club_id) <= 3  # max 3 players\n",
        " \n",
        "    model += sum(decisions) == 11  # total team size\n",
        "    model += sum(captain_decisions) == 1  # 1 captain\n",
        "    \n",
        "    for i in range(num_players):  \n",
        "        model += (decisions[i] - captain_decisions[i]) >= 0  # captain must also be on team\n",
        "        model += (decisions[i] + sub_decisions[i]) <= 1  # subs must not be on team\n",
        " \n",
        "    model.solve()\n",
        "    print(\"Total expected score = {}\".format(model.objective.value()))\n",
        " \n",
        "    return decisions, captain_decisions, sub_decisions"
      ],
      "execution_count": null,
      "outputs": []
    },
    {
      "cell_type": "code",
      "metadata": {
        "colab": {
          "base_uri": "https://localhost:8080/"
        },
        "id": "GmWWxpWNgFo6",
        "outputId": "58297d62-f730-46b7-dd13-b3a6653ad43d"
      },
      "source": [
        "decisions, captain_decisions, sub_decisions = select_team(expected_scores.values, prices.values,\n",
        "                                                          positions.values, clubs.values,\n",
        "                                                          sub_factor=0.2)\n",
        "# print results\n",
        "for i in range(elements_df.shape[0]):\n",
        "    if decisions[i].value() != 0:\n",
        "        print(names[i], expected_scores[i], prices[i])\n",
        "print()\n",
        "print(\"Subs:\")\n",
        "# print results\n",
        "for i in range(elements_df.shape[0]):\n",
        "    if sub_decisions[i].value() == 1:\n",
        "        print(names[i], expected_scores[i], prices[i])\n",
        " \n",
        "print()\n",
        "print(\"Captain:\")\n",
        "# print results\n",
        "for i in range(elements_df.shape[0]):\n",
        "    if captain_decisions[i].value() == 1:\n",
        "        print(names[i], expected_scores[i], prices[i])"
      ],
      "execution_count": null,
      "outputs": [
        {
          "output_type": "stream",
          "text": [
            "/usr/local/lib/python3.6/dist-packages/pulp/pulp.py:1199: UserWarning: Spaces are not permitted in the name. Converted to '_'\n",
            "  warnings.warn(\"Spaces are not permitted in the name. Converted to '_'\")\n"
          ],
          "name": "stderr"
        },
        {
          "output_type": "stream",
          "text": [
            "Total expected score = 1394.8\n",
            "Grealish 113 7.7\n",
            "Pope 95 5.4\n",
            "Bamford 104 6.6\n",
            "Cancelo 86 6.0\n",
            "Fernandes 142 11.4\n",
            "Wilson 97 6.6\n",
            "Bednarek 81 4.9\n",
            "Kane 143 11.2\n",
            "Son 141 9.8\n",
            "Cresswell 92 5.5\n",
            "Soucek 96 5.3\n",
            "\n",
            "Subs:\n",
            "Martínez 93 5.1\n",
            "Targett 78 4.7\n",
            "March 63 5.0\n",
            "Dallas 75 4.8\n",
            "\n",
            "Captain:\n",
            "Kane 143 11.2\n"
          ],
          "name": "stdout"
        }
      ]
    },
    {
      "cell_type": "code",
      "metadata": {
        "id": "FiLk4ppghBVl"
      },
      "source": [
        ""
      ],
      "execution_count": null,
      "outputs": []
    }
  ]
}
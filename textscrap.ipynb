{
  "nbformat": 4,
  "nbformat_minor": 0,
  "metadata": {
    "colab": {
      "name": "textscrap.ipynb",
      "provenance": [],
      "collapsed_sections": [],
      "authorship_tag": "ABX9TyNpzRFgREOZEcKr92FLB+Ao",
      "include_colab_link": true
    },
    "kernelspec": {
      "name": "python3",
      "display_name": "Python 3"
    },
    "language_info": {
      "name": "python"
    }
  },
  "cells": [
    {
      "cell_type": "markdown",
      "metadata": {
        "id": "view-in-github",
        "colab_type": "text"
      },
      "source": [
        "<a href=\"https://colab.research.google.com/github/Osiroski/fantasyfootball/blob/main/textscrap.ipynb\" target=\"_parent\"><img src=\"https://colab.research.google.com/assets/colab-badge.svg\" alt=\"Open In Colab\"/></a>"
      ]
    },
    {
      "cell_type": "code",
      "execution_count": null,
      "metadata": {
        "id": "wKbdu9DWvOEv"
      },
      "outputs": [],
      "source": [
        "pip install beautifulsoup4\n",
        "pip install indexed"
      ]
    },
    {
      "cell_type": "code",
      "source": [
        "from bs4 import BeautifulSoup\n",
        "from urllib.request import urlopen\n",
        "import indexed\n",
        "from collections import OrderedDict"
      ],
      "metadata": {
        "id": "ZQrejsNKvSwU"
      },
      "execution_count": 2,
      "outputs": []
    },
    {
      "cell_type": "code",
      "source": [
        "url = \"https://www.pesapal.com/\"\n",
        "page = urlopen(url)\n",
        "html = page.read().decode(\"utf-8\")\n",
        "soup = BeautifulSoup(html, \"html.parser\")\n",
        "# kill all script and style elements\n",
        "for script in soup([\"script\", \"style\"]):\n",
        "    script.decompose()    # rip it out"
      ],
      "metadata": {
        "id": "nfE2JxUgvaWq"
      },
      "execution_count": 13,
      "outputs": []
    },
    {
      "cell_type": "code",
      "source": [
        "text=soup.get_text()\n",
        "# break into lines and remove leading and trailing space on each\n",
        "lines = (line.strip() for line in text.splitlines())\n",
        "# break multi-headlines into a line each\n",
        "chunks = (phrase.strip() for line in lines for phrase in line.split(\"  \"))\n",
        "# drop blank lines\n",
        "text = '\\n'.join(chunk for chunk in chunks if chunk)\n"
      ],
      "metadata": {
        "id": "-3tf4NnpvbBO"
      },
      "execution_count": null,
      "outputs": []
    },
    {
      "cell_type": "code",
      "source": [
        "def freq(str):\n",
        "    # break the string into list of words \n",
        "    str = str.split()        \n",
        "    str2 = []\n",
        "    unwanted=['&','+','/','|','©','(POS)','-']\n",
        "    dictionary={}\n",
        "    # loop till string values present in list str\n",
        "    for i in str:             \n",
        "        # checking for the duplicacy\n",
        "        if i not in str2 and i not in unwanted:\n",
        "            # insert value in str2\n",
        "            str2.append(i)           \n",
        "    for i in range(0, len(str2)):\n",
        "        # count the frequency of each word(present \n",
        "        # in str2) in str and print\n",
        "        dictionary[ str2[i] ] = str.count(str2[i]) \n",
        "    return dictionary"
      ],
      "metadata": {
        "id": "fhHlLGp_vhP5"
      },
      "execution_count": 33,
      "outputs": []
    },
    {
      "cell_type": "code",
      "source": [
        "dict1=freq(text)"
      ],
      "metadata": {
        "id": "F8f4ZByyxV_Y"
      },
      "execution_count": 35,
      "outputs": []
    },
    {
      "cell_type": "code",
      "source": [
        "d_sorted_by_value = OrderedDict(sorted(dict1.items(), key=lambda x: x[1],reverse=True))\n",
        "d=indexed.IndexedOrderedDict(d_sorted_by_value)"
      ],
      "metadata": {
        "id": "XgbEZdoM6w0P"
      },
      "execution_count": 41,
      "outputs": []
    },
    {
      "cell_type": "code",
      "source": [
        "print(d.values()[2])\n",
        "print(d.keys()[2])"
      ],
      "metadata": {
        "colab": {
          "base_uri": "https://localhost:8080/"
        },
        "id": "avyaQsvu-WVn",
        "outputId": "2c85d23a-a77c-4dd7-aea9-f1fa32f09118"
      },
      "execution_count": 53,
      "outputs": [
        {
          "output_type": "stream",
          "name": "stdout",
          "text": [
            "10\n",
            "the\n"
          ]
        }
      ]
    },
    {
      "cell_type": "code",
      "source": [
        ""
      ],
      "metadata": {
        "id": "_4ytzPAg-pUK"
      },
      "execution_count": null,
      "outputs": []
    }
  ]
}